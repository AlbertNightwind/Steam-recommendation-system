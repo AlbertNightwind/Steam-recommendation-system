{
 "cells": [
  {
   "cell_type": "markdown",
   "metadata": {},
   "source": [
    "# Part5"
   ]
  },
  {
   "cell_type": "code",
   "execution_count": 1,
   "metadata": {},
   "outputs": [],
   "source": [
    "from pyspark.sql import SparkSession\n",
    "from pyspark.sql.types import *\n",
    "from pyspark.mllib.recommendation import ALS, MatrixFactorizationModel, Rating\n",
    "import requests, json, os, sys, time, re\n",
    "from sklearn.metrics.pairwise import linear_kernel,cosine_similarity\n",
    "import pandas as pd"
   ]
  },
  {
   "cell_type": "markdown",
   "metadata": {},
   "source": [
    "### Modifying SparkSession "
   ]
  },
  {
   "cell_type": "markdown",
   "metadata": {},
   "source": [
    "Spark session is a unified entry point of a spark application from Spark 2.0. It provides a way to interact with various spark’s functionality with a lesser number of constructs. Instead of having a spark context, hive context, SQL context, now all of it is encapsulated in a Spark session.\n",
    "\n",
    "https://medium.com/@achilleus/spark-session-10d0d66d1d24"
   ]
  },
  {
   "cell_type": "code",
   "execution_count": 2,
   "metadata": {},
   "outputs": [],
   "source": [
    "######## Spark session is a unified entry point of a spark application  #############\n",
    "spark = SparkSession \\\n",
    "    .builder \\\n",
    "    .appName('spark-rec') \\\n",
    "    .config(\"configuration_key\", \"configuration_value\") \\\n",
    "    .enableHiveSupport() \\\n",
    "    .getOrCreate()"
   ]
  },
  {
   "cell_type": "code",
   "execution_count": 3,
   "metadata": {},
   "outputs": [],
   "source": [
    "sc = spark.sparkContext"
   ]
  },
  {
   "cell_type": "code",
   "execution_count": 4,
   "metadata": {},
   "outputs": [],
   "source": [
    "import os\n",
    "import math\n",
    "import datetime\n",
    "import pyspark.sql.functions as sf\n",
    "from pyspark.sql.functions import desc\n",
    "from pyspark.sql.window import Window\n",
    "from pyspark import SparkConf, SparkContext\n",
    "import itertools\n",
    "from math import sqrt\n",
    "from operator import add\n",
    "from os.path import join, isfile, dirname\n",
    "from pyspark import SparkContext, SparkConf, SQLContext\n",
    "from pyspark.mllib.recommendation import ALS, MatrixFactorizationModel, Rating\n",
    "from pyspark.sql.types import TimestampType\n",
    "datasets_path=os.getcwd() + \"/RE_data\"\n",
    "#ratings_file = os.path.join(datasets_path, 'data/ratings.csv')\n",
    "\n",
    "\n",
    "#### The dataset we use here is the same as in Part4, is item_id, user_id, ratings dataframe  ######\n",
    "\n",
    "ratings_raw_data = sc.textFile(\"df_col_use_app_raings_new.csv\")\n",
    "ratings_raw_data_header = ratings_raw_data.take(1)[0]\n",
    "ratings_data = ratings_raw_data.filter(lambda line: line != ratings_raw_data_header)\\\n",
    "    .map(lambda line: line.split(\",\")).map(lambda tokens: (int(tokens[1]),int(tokens[2]),int(float(tokens[3])))).cache()\n",
    "######   we should assume each column here, by position [1],[2],[3] and data charactors\n",
    "#map() function demands every input must return a value，flatMapValues expand the output result values set of input, put those into a bigger RDD\n",
    "rddTraining, rddValidating, rddTesting = ratings_data.randomSplit([6,2,2], seed=1001)\n",
    "#####   Split Training data, Validation data and Testing data by portion of 60%, 20%, 20%"
   ]
  },
  {
   "cell_type": "markdown",
   "metadata": {},
   "source": [
    "### Modeling by Spark ALS "
   ]
  },
  {
   "cell_type": "markdown",
   "metadata": {},
   "source": [
    "* Build the Spark ALS model"
   ]
  },
  {
   "cell_type": "code",
   "execution_count": 5,
   "metadata": {},
   "outputs": [
    {
     "data": {
      "text/plain": [
       "[Rating(user=3, product=15700, rating=0.9822181173763089),\n",
       " Rating(user=3, product=4000, rating=0.9871549585407864)]"
      ]
     },
     "execution_count": 5,
     "metadata": {},
     "output_type": "execute_result"
    }
   ],
   "source": [
    "rank = 10   \n",
    "# The size of the feature vector used; the minimum value is 10, the minimum value of the feature vector, \n",
    "#the better the model produced, but it also costs more calculation cost\n",
    "numIterations = 10\n",
    "#Iteration numbers\n",
    "alpha=0.01\n",
    "#Confidence values in ALS，default 1.0\n",
    "\n",
    "#lambda\n",
    "#Regularization parameter，DEFAULT 0.01\n",
    "\n",
    "############################################################################################\n",
    "# Build the recommendation model using Alternating Least Squares based on implicit ratings #\n",
    "############################################################################################\n",
    "\n",
    "model = ALS.trainImplicit(rddTraining, 10, 10,alpha=0.01)\n",
    "testset = sc.parallelize([(3, 4000), (3, 15700)])   \n",
    "##########   you can assume any user_id and any item(game) id here   ######################\n",
    "model.predictAll(testset).collect()"
   ]
  },
  {
   "cell_type": "markdown",
   "metadata": {},
   "source": [
    "* Get the games' rating predictions for users"
   ]
  },
  {
   "cell_type": "code",
   "execution_count": 11,
   "metadata": {},
   "outputs": [
    {
     "data": {
      "text/plain": [
       "[((6, 304050), 0.002293541944753008),\n",
       " ((0, 377160), 0.01218008741158405),\n",
       " ((0, 863550), 0.00662157475132602),\n",
       " ((3, 863550), 0.0037752978618249833),\n",
       " ((2, 239140), 0.009061042884919879)]"
      ]
     },
     "execution_count": 11,
     "metadata": {},
     "output_type": "execute_result"
    }
   ],
   "source": [
    "# Calculate all predictions\n",
    "rddTesting_map = rddTesting.map(lambda r: ((r[0], r[1]))) \n",
    "predictions = model.predictAll(rddTesting_map).map(lambda r: ((r[0], r[1]), (r[2]))) \n",
    "predictions.take(5)    ####### Output 5 results\n",
    "#model.predictAll(rddTesting_map).collect()     Show all the Recommendation Results\n"
   ]
  },
  {
   "cell_type": "markdown",
   "metadata": {},
   "source": [
    "* We join the original Rates to our Predictions "
   ]
  },
  {
   "cell_type": "code",
   "execution_count": 7,
   "metadata": {},
   "outputs": [
    {
     "data": {
      "text/plain": [
       "[((0, 30), (3.0, 0.014650328729938544)),\n",
       " ((0, 550), (5.0, 0.0009064751557851247)),\n",
       " ((0, 1046930), (2.0, 0.009567729278558423)),\n",
       " ((0, 304930), (1.0, 0.009429824281231292)),\n",
       " ((0, 319630), (5.0, 0.003907018228550996))]"
      ]
     },
     "execution_count": 7,
     "metadata": {},
     "output_type": "execute_result"
    }
   ],
   "source": [
    "rates_and_preds = rddTesting.map(lambda r: ((int(r[0]), int(r[1])), float(r[2]))).join(predictions) \n",
    "rates_and_preds.take(5)"
   ]
  },
  {
   "cell_type": "markdown",
   "metadata": {},
   "source": [
    "### Results "
   ]
  },
  {
   "cell_type": "markdown",
   "metadata": {},
   "source": [
    "* Show the final top 10 recommendation for 8 users 0 - 7"
   ]
  },
  {
   "cell_type": "code",
   "execution_count": 8,
   "metadata": {},
   "outputs": [
    {
     "data": {
      "text/html": [
       "<div>\n",
       "<style scoped>\n",
       "    .dataframe tbody tr th:only-of-type {\n",
       "        vertical-align: middle;\n",
       "    }\n",
       "\n",
       "    .dataframe tbody tr th {\n",
       "        vertical-align: top;\n",
       "    }\n",
       "\n",
       "    .dataframe thead th {\n",
       "        text-align: right;\n",
       "    }\n",
       "</style>\n",
       "<table border=\"1\" class=\"dataframe\">\n",
       "  <thead>\n",
       "    <tr style=\"text-align: right;\">\n",
       "      <th></th>\n",
       "      <th>0</th>\n",
       "      <th>1</th>\n",
       "      <th>2</th>\n",
       "      <th>3</th>\n",
       "      <th>4</th>\n",
       "      <th>5</th>\n",
       "      <th>6</th>\n",
       "      <th>7</th>\n",
       "      <th>8</th>\n",
       "      <th>9</th>\n",
       "    </tr>\n",
       "  </thead>\n",
       "  <tbody>\n",
       "    <tr>\n",
       "      <th>0</th>\n",
       "      <td>(0, 10, 1.0039087062032928)</td>\n",
       "      <td>(0, 230410, 1.0039087062032928)</td>\n",
       "      <td>(0, 261550, 1.0038017860126884)</td>\n",
       "      <td>(0, 582010, 1.0038017860126884)</td>\n",
       "      <td>(0, 380, 0.9980827438971605)</td>\n",
       "      <td>(0, 271590, 0.9962936001300994)</td>\n",
       "      <td>(0, 500, 0.9953937103977362)</td>\n",
       "      <td>(0, 238960, 0.9943937963381518)</td>\n",
       "      <td>(0, 363970, 0.9913195564075354)</td>\n",
       "      <td>(0, 578080, 0.988802977030889)</td>\n",
       "    </tr>\n",
       "    <tr>\n",
       "      <th>1</th>\n",
       "      <td>(1, 236390, 1.0038617174240998)</td>\n",
       "      <td>(1, 204360, 1.0037555089268277)</td>\n",
       "      <td>(1, 255710, 1.0036472918089963)</td>\n",
       "      <td>(1, 304050, 1.0034244887120733)</td>\n",
       "      <td>(1, 578080, 0.9962739393215608)</td>\n",
       "      <td>(1, 1046930, 0.9950699678783315)</td>\n",
       "      <td>(1, 218620, 0.994146490995629)</td>\n",
       "      <td>(1, 359550, 0.9935279808236084)</td>\n",
       "      <td>(1, 431960, 0.9901998237446543)</td>\n",
       "      <td>(1, 8930, 0.9872762943548623)</td>\n",
       "    </tr>\n",
       "    <tr>\n",
       "      <th>2</th>\n",
       "      <td>(2, 224260, 0.9946745247706099)</td>\n",
       "      <td>(2, 1085660, 0.9931579340739607)</td>\n",
       "      <td>(2, 578080, 0.9913788598717663)</td>\n",
       "      <td>(2, 292030, 0.9913296231678457)</td>\n",
       "      <td>(2, 72850, 0.9910815389303043)</td>\n",
       "      <td>(2, 377160, 0.9901411078493634)</td>\n",
       "      <td>(2, 431960, 0.98852639885961)</td>\n",
       "      <td>(2, 271590, 0.9881245951924617)</td>\n",
       "      <td>(2, 304930, 0.9865989121198795)</td>\n",
       "      <td>(2, 730, 0.9856853239819501)</td>\n",
       "    </tr>\n",
       "    <tr>\n",
       "      <th>3</th>\n",
       "      <td>(3, 219740, 1.0029898414280827)</td>\n",
       "      <td>(3, 278360, 1.0026350436237617)</td>\n",
       "      <td>(3, 130, 1.0026350436237617)</td>\n",
       "      <td>(3, 291480, 1.002512130039145)</td>\n",
       "      <td>(3, 242760, 0.9952071278394812)</td>\n",
       "      <td>(3, 96000, 0.9932086439659975)</td>\n",
       "      <td>(3, 105600, 0.9927665024928113)</td>\n",
       "      <td>(3, 550, 0.9894840753503809)</td>\n",
       "      <td>(3, 4000, 0.9871549585407864)</td>\n",
       "      <td>(3, 322330, 0.9869614878340032)</td>\n",
       "    </tr>\n",
       "    <tr>\n",
       "      <th>4</th>\n",
       "      <td>(4, 555570, 1.0009839761103627)</td>\n",
       "      <td>(4, 227300, 1.0009839761103627)</td>\n",
       "      <td>(4, 320, 1.0009839761103627)</td>\n",
       "      <td>(4, 381210, 1.0009839761103627)</td>\n",
       "      <td>(4, 240, 1.0009839761103627)</td>\n",
       "      <td>(4, 370910, 1.0009839761103627)</td>\n",
       "      <td>(4, 863550, 1.000858795614192)</td>\n",
       "      <td>(4, 80, 1.0007312083088022)</td>\n",
       "      <td>(4, 221380, 1.0007312083088022)</td>\n",
       "      <td>(4, 420, 1.0007312083088022)</td>\n",
       "    </tr>\n",
       "    <tr>\n",
       "      <th>5</th>\n",
       "      <td>(5, 220, 1.00298678581594)</td>\n",
       "      <td>(5, 377160, 0.999708016665643)</td>\n",
       "      <td>(5, 208090, 0.9967649747167598)</td>\n",
       "      <td>(5, 96000, 0.9955572785842058)</td>\n",
       "      <td>(5, 252950, 0.9930115206426398)</td>\n",
       "      <td>(5, 10180, 0.9930106394379453)</td>\n",
       "      <td>(5, 15700, 0.9908895730642852)</td>\n",
       "      <td>(5, 620, 0.990360269364651)</td>\n",
       "      <td>(5, 304930, 0.9896408710770234)</td>\n",
       "      <td>(5, 219640, 0.9887003311043836)</td>\n",
       "    </tr>\n",
       "    <tr>\n",
       "      <th>6</th>\n",
       "      <td>(6, 1085660, 1.007019322171078)</td>\n",
       "      <td>(6, 291550, 1.0041729885754034)</td>\n",
       "      <td>(6, 813820, 1.0040535013092233)</td>\n",
       "      <td>(6, 700330, 1.0040535013092233)</td>\n",
       "      <td>(6, 444090, 1.003807533332838)</td>\n",
       "      <td>(6, 438100, 1.0036809633789172)</td>\n",
       "      <td>(6, 218620, 0.9943763961199261)</td>\n",
       "      <td>(6, 359550, 0.9939160312756354)</td>\n",
       "      <td>(6, 252950, 0.9929075057109256)</td>\n",
       "      <td>(6, 433850, 0.9926072326444403)</td>\n",
       "    </tr>\n",
       "    <tr>\n",
       "      <th>7</th>\n",
       "      <td>(7, 413150, 1.0009940705518565)</td>\n",
       "      <td>(7, 44350, 0.9946134113220667)</td>\n",
       "      <td>(7, 30, 0.9946123776024681)</td>\n",
       "      <td>(7, 1046930, 0.9934343981392315)</td>\n",
       "      <td>(7, 500, 0.9911487857465932)</td>\n",
       "      <td>(7, 363970, 0.988797131719461)</td>\n",
       "      <td>(7, 377160, 0.9881315434470435)</td>\n",
       "      <td>(7, 105600, 0.9876446819601835)</td>\n",
       "      <td>(7, 252490, 0.9854567715013329)</td>\n",
       "      <td>(7, 219640, 0.985388703241106)</td>\n",
       "    </tr>\n",
       "  </tbody>\n",
       "</table>\n",
       "</div>"
      ],
      "text/plain": [
       "                                 0                                 1  \\\n",
       "0      (0, 10, 1.0039087062032928)   (0, 230410, 1.0039087062032928)   \n",
       "1  (1, 236390, 1.0038617174240998)   (1, 204360, 1.0037555089268277)   \n",
       "2  (2, 224260, 0.9946745247706099)  (2, 1085660, 0.9931579340739607)   \n",
       "3  (3, 219740, 1.0029898414280827)   (3, 278360, 1.0026350436237617)   \n",
       "4  (4, 555570, 1.0009839761103627)   (4, 227300, 1.0009839761103627)   \n",
       "5       (5, 220, 1.00298678581594)    (5, 377160, 0.999708016665643)   \n",
       "6  (6, 1085660, 1.007019322171078)   (6, 291550, 1.0041729885754034)   \n",
       "7  (7, 413150, 1.0009940705518565)    (7, 44350, 0.9946134113220667)   \n",
       "\n",
       "                                 2                                 3  \\\n",
       "0  (0, 261550, 1.0038017860126884)   (0, 582010, 1.0038017860126884)   \n",
       "1  (1, 255710, 1.0036472918089963)   (1, 304050, 1.0034244887120733)   \n",
       "2  (2, 578080, 0.9913788598717663)   (2, 292030, 0.9913296231678457)   \n",
       "3     (3, 130, 1.0026350436237617)    (3, 291480, 1.002512130039145)   \n",
       "4     (4, 320, 1.0009839761103627)   (4, 381210, 1.0009839761103627)   \n",
       "5  (5, 208090, 0.9967649747167598)    (5, 96000, 0.9955572785842058)   \n",
       "6  (6, 813820, 1.0040535013092233)   (6, 700330, 1.0040535013092233)   \n",
       "7      (7, 30, 0.9946123776024681)  (7, 1046930, 0.9934343981392315)   \n",
       "\n",
       "                                 4                                 5  \\\n",
       "0     (0, 380, 0.9980827438971605)   (0, 271590, 0.9962936001300994)   \n",
       "1  (1, 578080, 0.9962739393215608)  (1, 1046930, 0.9950699678783315)   \n",
       "2   (2, 72850, 0.9910815389303043)   (2, 377160, 0.9901411078493634)   \n",
       "3  (3, 242760, 0.9952071278394812)    (3, 96000, 0.9932086439659975)   \n",
       "4     (4, 240, 1.0009839761103627)   (4, 370910, 1.0009839761103627)   \n",
       "5  (5, 252950, 0.9930115206426398)    (5, 10180, 0.9930106394379453)   \n",
       "6   (6, 444090, 1.003807533332838)   (6, 438100, 1.0036809633789172)   \n",
       "7     (7, 500, 0.9911487857465932)    (7, 363970, 0.988797131719461)   \n",
       "\n",
       "                                 6                                7  \\\n",
       "0     (0, 500, 0.9953937103977362)  (0, 238960, 0.9943937963381518)   \n",
       "1   (1, 218620, 0.994146490995629)  (1, 359550, 0.9935279808236084)   \n",
       "2    (2, 431960, 0.98852639885961)  (2, 271590, 0.9881245951924617)   \n",
       "3  (3, 105600, 0.9927665024928113)     (3, 550, 0.9894840753503809)   \n",
       "4   (4, 863550, 1.000858795614192)      (4, 80, 1.0007312083088022)   \n",
       "5   (5, 15700, 0.9908895730642852)      (5, 620, 0.990360269364651)   \n",
       "6  (6, 218620, 0.9943763961199261)  (6, 359550, 0.9939160312756354)   \n",
       "7  (7, 377160, 0.9881315434470435)  (7, 105600, 0.9876446819601835)   \n",
       "\n",
       "                                 8                                9  \n",
       "0  (0, 363970, 0.9913195564075354)   (0, 578080, 0.988802977030889)  \n",
       "1  (1, 431960, 0.9901998237446543)    (1, 8930, 0.9872762943548623)  \n",
       "2  (2, 304930, 0.9865989121198795)     (2, 730, 0.9856853239819501)  \n",
       "3    (3, 4000, 0.9871549585407864)  (3, 322330, 0.9869614878340032)  \n",
       "4  (4, 221380, 1.0007312083088022)     (4, 420, 1.0007312083088022)  \n",
       "5  (5, 304930, 0.9896408710770234)  (5, 219640, 0.9887003311043836)  \n",
       "6  (6, 252950, 0.9929075057109256)  (6, 433850, 0.9926072326444403)  \n",
       "7  (7, 252490, 0.9854567715013329)   (7, 219640, 0.985388703241106)  "
      ]
     },
     "execution_count": 8,
     "metadata": {},
     "output_type": "execute_result"
    }
   ],
   "source": [
    "Spark_rec_list = []\n",
    "for i in range(8):\n",
    "    Spark_rec_list.append(model.recommendProducts(i,10))\n",
    "Spark_rec_df = pd.DataFrame(Spark_rec_list)\n",
    "\n",
    "Spark_rec_df"
   ]
  },
  {
   "cell_type": "markdown",
   "metadata": {},
   "source": [
    "### Evaluations "
   ]
  },
  {
   "cell_type": "markdown",
   "metadata": {},
   "source": [
    "* Mesuare our recommendation results by applying RMSE"
   ]
  },
  {
   "cell_type": "code",
   "execution_count": 9,
   "metadata": {},
   "outputs": [
    {
     "name": "stdout",
     "output_type": "stream",
     "text": [
      "For testing data the RMSE is 3.6044256643640327\n"
     ]
    }
   ],
   "source": [
    "error = math.sqrt(rates_and_preds.map(lambda r: (r[1][0] - r[1][1])**2).mean()) \n",
    "print ('For testing data the RMSE is %s' % (error))\n"
   ]
  },
  {
   "cell_type": "code",
   "execution_count": null,
   "metadata": {},
   "outputs": [],
   "source": []
  }
 ],
 "metadata": {
  "kernelspec": {
   "display_name": "conda_python3",
   "language": "python",
   "name": "conda_python3"
  },
  "language_info": {
   "codemirror_mode": {
    "name": "ipython",
    "version": 3
   },
   "file_extension": ".py",
   "mimetype": "text/x-python",
   "name": "python",
   "nbconvert_exporter": "python",
   "pygments_lexer": "ipython3",
   "version": "3.6.10"
  }
 },
 "nbformat": 4,
 "nbformat_minor": 4
}
