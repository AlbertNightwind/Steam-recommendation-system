{
 "cells": [
  {
   "cell_type": "markdown",
   "metadata": {},
   "source": [
    "# Part5"
   ]
  },
  {
   "cell_type": "code",
   "execution_count": 2,
   "metadata": {},
   "outputs": [],
   "source": [
    "from pyspark.sql import SparkSession\n",
    "from pyspark.sql.types import *\n",
    "from pyspark.mllib.recommendation import ALS, MatrixFactorizationModel, Rating\n",
    "import requests, json, os, sys, time, re\n",
    "from sklearn.metrics.pairwise import linear_kernel,cosine_similarity\n",
    "import pandas as pd"
   ]
  },
  {
   "cell_type": "markdown",
   "metadata": {},
   "source": [
    "Spark session is a unified entry point of a spark application from Spark 2.0. It provides a way to interact with various spark’s functionality with a lesser number of constructs. Instead of having a spark context, hive context, SQL context, now all of it is encapsulated in a Spark session.\n",
    "\n",
    "https://medium.com/@achilleus/spark-session-10d0d66d1d24"
   ]
  },
  {
   "cell_type": "code",
   "execution_count": 3,
   "metadata": {},
   "outputs": [],
   "source": [
    "######## Spark session is a unified entry point of a spark application  #############\n",
    "spark = SparkSession \\\n",
    "    .builder \\\n",
    "    .appName('spark-rec') \\\n",
    "    .config(\"configuration_key\", \"configuration_value\") \\\n",
    "    .enableHiveSupport() \\\n",
    "    .getOrCreate()"
   ]
  },
  {
   "cell_type": "code",
   "execution_count": 4,
   "metadata": {},
   "outputs": [],
   "source": [
    "sc = spark.sparkContext"
   ]
  },
  {
   "cell_type": "code",
   "execution_count": 5,
   "metadata": {},
   "outputs": [],
   "source": [
    "import os\n",
    "import math\n",
    "import datetime\n",
    "import pyspark.sql.functions as sf\n",
    "from pyspark.sql.functions import desc\n",
    "from pyspark.sql.window import Window\n",
    "from pyspark import SparkConf, SparkContext\n",
    "import itertools\n",
    "from math import sqrt\n",
    "from operator import add\n",
    "from os.path import join, isfile, dirname\n",
    "from pyspark import SparkContext, SparkConf, SQLContext\n",
    "from pyspark.mllib.recommendation import ALS, MatrixFactorizationModel, Rating\n",
    "from pyspark.sql.types import TimestampType\n",
    "datasets_path=os.getcwd() + \"/RE_data\"\n",
    "#ratings_file = os.path.join(datasets_path, 'data/ratings.csv')\n",
    "ratings_raw_data = sc.textFile(\"df_col_use_app_raings_new.csv\")\n",
    "ratings_raw_data_header = ratings_raw_data.take(1)[0]\n",
    "ratings_data = ratings_raw_data.filter(lambda line: line != ratings_raw_data_header)\\\n",
    "    .map(lambda line: line.split(\",\")).map(lambda tokens: (int(tokens[1]),int(tokens[2]),int(float(tokens[3])))).cache()\n",
    "######   we should assume each column here, by position [1],[2],[3] and data charactors\n",
    "rddTraining, rddValidating, rddTesting = ratings_data.randomSplit([6,2,2], seed=1001)\n",
    "#####   Split Training data, Validation data and Testing data by portion of 60%, 20%, 20%"
   ]
  },
  {
   "cell_type": "markdown",
   "metadata": {},
   "source": [
    "* Build the Spark ALS model"
   ]
  },
  {
   "cell_type": "code",
   "execution_count": 8,
   "metadata": {},
   "outputs": [
    {
     "data": {
      "text/plain": [
       "[Rating(user=3, product=15700, rating=0.9810856805017862),\n",
       " Rating(user=3, product=4000, rating=0.9865452677015587)]"
      ]
     },
     "execution_count": 8,
     "metadata": {},
     "output_type": "execute_result"
    }
   ],
   "source": [
    "model = ALS.trainImplicit(rddTraining, 10, 10,alpha=0.01)\n",
    "testset = sc.parallelize([(3, 4000), (3, 15700)])\n",
    "model.predictAll(testset).collect()"
   ]
  },
  {
   "cell_type": "markdown",
   "metadata": {},
   "source": [
    "* Get the games' rating predictions for users"
   ]
  },
  {
   "cell_type": "code",
   "execution_count": 9,
   "metadata": {},
   "outputs": [
    {
     "data": {
      "text/plain": [
       "[((6, 304050), 0.002139947627648353),\n",
       " ((0, 377160), 0.007977275220483526),\n",
       " ((0, 863550), 0.001358585669876844),\n",
       " ((3, 863550), 0.002033511545274952),\n",
       " ((2, 239140), 0.009374279388243645)]"
      ]
     },
     "execution_count": 9,
     "metadata": {},
     "output_type": "execute_result"
    }
   ],
   "source": [
    "# Calculate all predictions\n",
    "rddTesting_map = rddTesting.map(lambda r: ((r[0], r[1]))) \n",
    "predictions = model.predictAll(rddTesting_map).map(lambda r: ((r[0], r[1]), (r[2]))) \n",
    "predictions.take(5)    ####### Output 5 results\n",
    "#model.predictAll(rddTesting_map).collect()\n"
   ]
  },
  {
   "cell_type": "markdown",
   "metadata": {},
   "source": [
    "* We get the pair of Rates and our Predictions "
   ]
  },
  {
   "cell_type": "code",
   "execution_count": 16,
   "metadata": {},
   "outputs": [
    {
     "data": {
      "text/plain": [
       "[((0, 30), (3.0, 0.0010476633442347838)),\n",
       " ((0, 550), (5.0, 0.0023775055058238292)),\n",
       " ((0, 1046930), (2.0, 0.001234996461892332)),\n",
       " ((0, 304930), (1.0, 0.008420771427189)),\n",
       " ((0, 319630), (5.0, 0.0029466629846523484))]"
      ]
     },
     "execution_count": 16,
     "metadata": {},
     "output_type": "execute_result"
    }
   ],
   "source": [
    "rates_and_preds = rddTesting.map(lambda r: ((int(r[0]), int(r[1])), float(r[2]))).join(predictions) \n",
    "rates_and_preds.take(5)"
   ]
  },
  {
   "cell_type": "markdown",
   "metadata": {},
   "source": [
    "* Show the final top 10 recommendation for 8 users 0 - 7"
   ]
  },
  {
   "cell_type": "code",
   "execution_count": 11,
   "metadata": {},
   "outputs": [
    {
     "data": {
      "text/html": [
       "<div>\n",
       "<style scoped>\n",
       "    .dataframe tbody tr th:only-of-type {\n",
       "        vertical-align: middle;\n",
       "    }\n",
       "\n",
       "    .dataframe tbody tr th {\n",
       "        vertical-align: top;\n",
       "    }\n",
       "\n",
       "    .dataframe thead th {\n",
       "        text-align: right;\n",
       "    }\n",
       "</style>\n",
       "<table border=\"1\" class=\"dataframe\">\n",
       "  <thead>\n",
       "    <tr style=\"text-align: right;\">\n",
       "      <th></th>\n",
       "      <th>0</th>\n",
       "      <th>1</th>\n",
       "      <th>2</th>\n",
       "      <th>3</th>\n",
       "      <th>4</th>\n",
       "      <th>5</th>\n",
       "      <th>6</th>\n",
       "      <th>7</th>\n",
       "      <th>8</th>\n",
       "      <th>9</th>\n",
       "    </tr>\n",
       "  </thead>\n",
       "  <tbody>\n",
       "    <tr>\n",
       "      <th>0</th>\n",
       "      <td>(0, 10, 1.0025446037445078)</td>\n",
       "      <td>(0, 230410, 1.0025446037445078)</td>\n",
       "      <td>(0, 261550, 1.0024448637445733)</td>\n",
       "      <td>(0, 582010, 1.0024448637445733)</td>\n",
       "      <td>(0, 271590, 0.9989298636405441)</td>\n",
       "      <td>(0, 380, 0.9956213735508213)</td>\n",
       "      <td>(0, 578080, 0.9915200120365106)</td>\n",
       "      <td>(0, 239140, 0.9893747138128672)</td>\n",
       "      <td>(0, 238960, 0.9891562483470906)</td>\n",
       "      <td>(0, 49520, 0.9883464942170095)</td>\n",
       "    </tr>\n",
       "    <tr>\n",
       "      <th>1</th>\n",
       "      <td>(1, 236390, 1.0031726782021004)</td>\n",
       "      <td>(1, 204360, 1.0030602638164425)</td>\n",
       "      <td>(1, 255710, 1.0029456762465654)</td>\n",
       "      <td>(1, 304050, 1.0027098186652512)</td>\n",
       "      <td>(1, 1046930, 0.9948421181430341)</td>\n",
       "      <td>(1, 218620, 0.9947677688526182)</td>\n",
       "      <td>(1, 359550, 0.9941006187916457)</td>\n",
       "      <td>(1, 578080, 0.9887139625177036)</td>\n",
       "      <td>(1, 431960, 0.9843851740179559)</td>\n",
       "      <td>(1, 730, 0.98412921822175)</td>\n",
       "    </tr>\n",
       "    <tr>\n",
       "      <th>2</th>\n",
       "      <td>(2, 224260, 0.998428577512311)</td>\n",
       "      <td>(2, 271590, 0.9927297963946669)</td>\n",
       "      <td>(2, 1085660, 0.9921189471140497)</td>\n",
       "      <td>(2, 105600, 0.9912045180565499)</td>\n",
       "      <td>(2, 377160, 0.9897751138470965)</td>\n",
       "      <td>(2, 292030, 0.9869064284761138)</td>\n",
       "      <td>(2, 431960, 0.9868604580202677)</td>\n",
       "      <td>(2, 578080, 0.9864966271865028)</td>\n",
       "      <td>(2, 72850, 0.9856518764337774)</td>\n",
       "      <td>(2, 730, 0.9850583373736064)</td>\n",
       "    </tr>\n",
       "    <tr>\n",
       "      <th>3</th>\n",
       "      <td>(3, 219740, 1.0126490176535217)</td>\n",
       "      <td>(3, 278360, 1.0121814595297949)</td>\n",
       "      <td>(3, 130, 1.0121814595297949)</td>\n",
       "      <td>(3, 291480, 1.0120195786921489)</td>\n",
       "      <td>(3, 242760, 1.000737682118511)</td>\n",
       "      <td>(3, 96000, 0.996886636027428)</td>\n",
       "      <td>(3, 105600, 0.9944765413254808)</td>\n",
       "      <td>(3, 550, 0.9915030301419845)</td>\n",
       "      <td>(3, 322330, 0.9881789091968294)</td>\n",
       "      <td>(3, 4000, 0.9865452677015587)</td>\n",
       "    </tr>\n",
       "    <tr>\n",
       "      <th>4</th>\n",
       "      <td>(4, 381210, 1.012527750737992)</td>\n",
       "      <td>(4, 555570, 1.012527750737992)</td>\n",
       "      <td>(4, 320, 1.012527750737992)</td>\n",
       "      <td>(4, 370910, 1.012527750737992)</td>\n",
       "      <td>(4, 240, 1.012527750737992)</td>\n",
       "      <td>(4, 227300, 1.012527750737992)</td>\n",
       "      <td>(4, 863550, 1.0123275294827123)</td>\n",
       "      <td>(4, 420, 1.0121235767586951)</td>\n",
       "      <td>(4, 221380, 1.0121235767586951)</td>\n",
       "      <td>(4, 80, 1.0121235767586951)</td>\n",
       "    </tr>\n",
       "    <tr>\n",
       "      <th>5</th>\n",
       "      <td>(5, 220, 1.0037649816357825)</td>\n",
       "      <td>(5, 252950, 0.9965285736117486)</td>\n",
       "      <td>(5, 10180, 0.9965253814433124)</td>\n",
       "      <td>(5, 208090, 0.9956514269715111)</td>\n",
       "      <td>(5, 96000, 0.9954949740502363)</td>\n",
       "      <td>(5, 377160, 0.9950209419983913)</td>\n",
       "      <td>(5, 363970, 0.9896568909369732)</td>\n",
       "      <td>(5, 550, 0.9879841277759822)</td>\n",
       "      <td>(5, 15700, 0.9872608812503634)</td>\n",
       "      <td>(5, 219640, 0.987251665808663)</td>\n",
       "    </tr>\n",
       "    <tr>\n",
       "      <th>6</th>\n",
       "      <td>(6, 291550, 1.0016006773598747)</td>\n",
       "      <td>(6, 700330, 1.0014967904837375)</td>\n",
       "      <td>(6, 813820, 1.0014967904837375)</td>\n",
       "      <td>(6, 444090, 1.0012829574247817)</td>\n",
       "      <td>(6, 438100, 1.001172864262725)</td>\n",
       "      <td>(6, 252950, 0.9961103222857031)</td>\n",
       "      <td>(6, 1085660, 0.9956840877323796)</td>\n",
       "      <td>(6, 10180, 0.9953394543087688)</td>\n",
       "      <td>(6, 218620, 0.9930973027280252)</td>\n",
       "      <td>(6, 359550, 0.9926886309179952)</td>\n",
       "    </tr>\n",
       "    <tr>\n",
       "      <th>7</th>\n",
       "      <td>(7, 413150, 1.003157626205771)</td>\n",
       "      <td>(7, 44350, 0.9939826195056498)</td>\n",
       "      <td>(7, 30, 0.9939816074497254)</td>\n",
       "      <td>(7, 1046930, 0.992744321297494)</td>\n",
       "      <td>(7, 219640, 0.9913024088871345)</td>\n",
       "      <td>(7, 377160, 0.9899291997845885)</td>\n",
       "      <td>(7, 252490, 0.988954082750516)</td>\n",
       "      <td>(7, 500, 0.9882847541825474)</td>\n",
       "      <td>(7, 8930, 0.9871743504914039)</td>\n",
       "      <td>(7, 105600, 0.9858374942897781)</td>\n",
       "    </tr>\n",
       "  </tbody>\n",
       "</table>\n",
       "</div>"
      ],
      "text/plain": [
       "                                 0                                1  \\\n",
       "0      (0, 10, 1.0025446037445078)  (0, 230410, 1.0025446037445078)   \n",
       "1  (1, 236390, 1.0031726782021004)  (1, 204360, 1.0030602638164425)   \n",
       "2   (2, 224260, 0.998428577512311)  (2, 271590, 0.9927297963946669)   \n",
       "3  (3, 219740, 1.0126490176535217)  (3, 278360, 1.0121814595297949)   \n",
       "4   (4, 381210, 1.012527750737992)   (4, 555570, 1.012527750737992)   \n",
       "5     (5, 220, 1.0037649816357825)  (5, 252950, 0.9965285736117486)   \n",
       "6  (6, 291550, 1.0016006773598747)  (6, 700330, 1.0014967904837375)   \n",
       "7   (7, 413150, 1.003157626205771)   (7, 44350, 0.9939826195056498)   \n",
       "\n",
       "                                  2                                3  \\\n",
       "0   (0, 261550, 1.0024448637445733)  (0, 582010, 1.0024448637445733)   \n",
       "1   (1, 255710, 1.0029456762465654)  (1, 304050, 1.0027098186652512)   \n",
       "2  (2, 1085660, 0.9921189471140497)  (2, 105600, 0.9912045180565499)   \n",
       "3      (3, 130, 1.0121814595297949)  (3, 291480, 1.0120195786921489)   \n",
       "4       (4, 320, 1.012527750737992)   (4, 370910, 1.012527750737992)   \n",
       "5    (5, 10180, 0.9965253814433124)  (5, 208090, 0.9956514269715111)   \n",
       "6   (6, 813820, 1.0014967904837375)  (6, 444090, 1.0012829574247817)   \n",
       "7       (7, 30, 0.9939816074497254)  (7, 1046930, 0.992744321297494)   \n",
       "\n",
       "                                  4                                5  \\\n",
       "0   (0, 271590, 0.9989298636405441)     (0, 380, 0.9956213735508213)   \n",
       "1  (1, 1046930, 0.9948421181430341)  (1, 218620, 0.9947677688526182)   \n",
       "2   (2, 377160, 0.9897751138470965)  (2, 292030, 0.9869064284761138)   \n",
       "3    (3, 242760, 1.000737682118511)    (3, 96000, 0.996886636027428)   \n",
       "4       (4, 240, 1.012527750737992)   (4, 227300, 1.012527750737992)   \n",
       "5    (5, 96000, 0.9954949740502363)  (5, 377160, 0.9950209419983913)   \n",
       "6    (6, 438100, 1.001172864262725)  (6, 252950, 0.9961103222857031)   \n",
       "7   (7, 219640, 0.9913024088871345)  (7, 377160, 0.9899291997845885)   \n",
       "\n",
       "                                  6                                7  \\\n",
       "0   (0, 578080, 0.9915200120365106)  (0, 239140, 0.9893747138128672)   \n",
       "1   (1, 359550, 0.9941006187916457)  (1, 578080, 0.9887139625177036)   \n",
       "2   (2, 431960, 0.9868604580202677)  (2, 578080, 0.9864966271865028)   \n",
       "3   (3, 105600, 0.9944765413254808)     (3, 550, 0.9915030301419845)   \n",
       "4   (4, 863550, 1.0123275294827123)     (4, 420, 1.0121235767586951)   \n",
       "5   (5, 363970, 0.9896568909369732)     (5, 550, 0.9879841277759822)   \n",
       "6  (6, 1085660, 0.9956840877323796)   (6, 10180, 0.9953394543087688)   \n",
       "7    (7, 252490, 0.988954082750516)     (7, 500, 0.9882847541825474)   \n",
       "\n",
       "                                 8                                9  \n",
       "0  (0, 238960, 0.9891562483470906)   (0, 49520, 0.9883464942170095)  \n",
       "1  (1, 431960, 0.9843851740179559)       (1, 730, 0.98412921822175)  \n",
       "2   (2, 72850, 0.9856518764337774)     (2, 730, 0.9850583373736064)  \n",
       "3  (3, 322330, 0.9881789091968294)    (3, 4000, 0.9865452677015587)  \n",
       "4  (4, 221380, 1.0121235767586951)      (4, 80, 1.0121235767586951)  \n",
       "5   (5, 15700, 0.9872608812503634)   (5, 219640, 0.987251665808663)  \n",
       "6  (6, 218620, 0.9930973027280252)  (6, 359550, 0.9926886309179952)  \n",
       "7    (7, 8930, 0.9871743504914039)  (7, 105600, 0.9858374942897781)  "
      ]
     },
     "execution_count": 11,
     "metadata": {},
     "output_type": "execute_result"
    }
   ],
   "source": [
    "Spark_rec_list = []\n",
    "for i in range(8):\n",
    "    Spark_rec_list.append(model.recommendProducts(i,10))\n",
    "Spark_rec_df = pd.DataFrame(Spark_rec_list)\n",
    "\n",
    "Spark_rec_df"
   ]
  },
  {
   "cell_type": "markdown",
   "metadata": {},
   "source": [
    "* Mesuare our recommendation results by applying RMSE"
   ]
  },
  {
   "cell_type": "code",
   "execution_count": 12,
   "metadata": {},
   "outputs": [
    {
     "name": "stdout",
     "output_type": "stream",
     "text": [
      "For testing data the RMSE is 3.606342878485228\n"
     ]
    }
   ],
   "source": [
    "error = math.sqrt(rates_and_preds.map(lambda r: (r[1][0] - r[1][1])**2).mean()) \n",
    "print ('For testing data the RMSE is %s' % (error))\n"
   ]
  },
  {
   "cell_type": "code",
   "execution_count": null,
   "metadata": {},
   "outputs": [],
   "source": []
  }
 ],
 "metadata": {
  "kernelspec": {
   "display_name": "conda_python3",
   "language": "python",
   "name": "conda_python3"
  },
  "language_info": {
   "codemirror_mode": {
    "name": "ipython",
    "version": 3
   },
   "file_extension": ".py",
   "mimetype": "text/x-python",
   "name": "python",
   "nbconvert_exporter": "python",
   "pygments_lexer": "ipython3",
   "version": "3.6.5"
  }
 },
 "nbformat": 4,
 "nbformat_minor": 4
}
