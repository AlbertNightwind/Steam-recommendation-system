{
 "cells": [
  {
   "cell_type": "markdown",
   "metadata": {},
   "source": [
    "# Part5"
   ]
  },
  {
   "cell_type": "code",
   "execution_count": 53,
   "metadata": {},
   "outputs": [],
   "source": [
    "from pyspark.sql import SparkSession\n",
    "from pyspark.sql.types import *\n",
    "from pyspark.mllib.recommendation import ALS, MatrixFactorizationModel, Rating\n",
    "import requests, json, os, sys, time, re\n",
    "from sklearn.metrics.pairwise import linear_kernel,cosine_similarity\n",
    "import pandas as pd"
   ]
  },
  {
   "cell_type": "code",
   "execution_count": 54,
   "metadata": {},
   "outputs": [],
   "source": [
    "######## Spark Session是关系型功能的入口点  #############\n",
    "spark = SparkSession \\\n",
    "    .builder \\\n",
    "    .appName('spark-rec') \\\n",
    "    .config(\"configuration_key\", \"configuration_value\") \\\n",
    "    .enableHiveSupport() \\\n",
    "    .getOrCreate()"
   ]
  },
  {
   "cell_type": "code",
   "execution_count": 55,
   "metadata": {},
   "outputs": [],
   "source": [
    "sc = spark.sparkContext"
   ]
  },
  {
   "cell_type": "code",
   "execution_count": null,
   "metadata": {},
   "outputs": [],
   "source": []
  },
  {
   "cell_type": "code",
   "execution_count": 73,
   "metadata": {},
   "outputs": [],
   "source": [
    "import os\n",
    "import math\n",
    "import datetime\n",
    "import pyspark.sql.functions as sf\n",
    "from pyspark.sql.functions import desc\n",
    "from pyspark.sql.window import Window\n",
    "from pyspark import SparkConf, SparkContext\n",
    "import itertools\n",
    "from math import sqrt\n",
    "from operator import add\n",
    "from os.path import join, isfile, dirname\n",
    "from pyspark import SparkContext, SparkConf, SQLContext\n",
    "from pyspark.mllib.recommendation import ALS, MatrixFactorizationModel, Rating\n",
    "from pyspark.sql.types import TimestampType\n",
    "datasets_path=os.getcwd() + \"/RE_data\"\n",
    "#ratings_file = os.path.join(datasets_path, 'data/ratings.csv')\n",
    "ratings_raw_data = sc.textFile(\"df_col_use_app_raings_new.csv\")\n",
    "ratings_raw_data_header = ratings_raw_data.take(1)[0]\n",
    "ratings_data = ratings_raw_data.filter(lambda line: line != ratings_raw_data_header)\\\n",
    "    .map(lambda line: line.split(\",\")).map(lambda tokens: (int(tokens[1]),int(tokens[2]),int(float(tokens[3])))).cache()\n",
    "\n",
    "rddTraining, rddValidating, rddTesting = ratings_data.randomSplit([6,2,2], seed=1001)"
   ]
  },
  {
   "cell_type": "markdown",
   "metadata": {},
   "source": [
    "* Build the Spark ALS model"
   ]
  },
  {
   "cell_type": "code",
   "execution_count": 74,
   "metadata": {},
   "outputs": [
    {
     "data": {
      "text/plain": [
       "[Rating(user=3, product=15700, rating=0.987999240898132),\n",
       " Rating(user=3, product=4000, rating=0.9856218982089308)]"
      ]
     },
     "execution_count": 74,
     "metadata": {},
     "output_type": "execute_result"
    }
   ],
   "source": [
    "model = ALS.trainImplicit(rddTraining, 10, 10,alpha=0.01)\n",
    "testset = sc.parallelize([(3, 4000), (3, 15700)])\n",
    "model.predictAll(testset).collect()"
   ]
  },
  {
   "cell_type": "code",
   "execution_count": 82,
   "metadata": {},
   "outputs": [
    {
     "data": {
      "text/plain": [
       "[((6, 304050), 0.0013580463704940815),\n",
       " ((0, 377160), 0.006895625075594436),\n",
       " ((0, 863550), 0.00023213074238198628),\n",
       " ((3, 863550), 0.00408147803901715),\n",
       " ((2, 239140), 0.007940296344380648)]"
      ]
     },
     "execution_count": 82,
     "metadata": {},
     "output_type": "execute_result"
    }
   ],
   "source": [
    "# Calculate all predictions\n",
    "rddTesting_map = rddTesting.map(lambda r: ((r[0], r[1]))) \n",
    "predictions = model.predictAll(rddTesting_map).map(lambda r: ((r[0], r[1]), (r[2]))) \n",
    "predictions.take(5)    ####### Output 5 results\n",
    "#model.predictAll(rddTesting_map).collect()\n"
   ]
  },
  {
   "cell_type": "code",
   "execution_count": 76,
   "metadata": {},
   "outputs": [
    {
     "data": {
      "text/plain": [
       "[((0, 30), (3.0, 0.0067794034783182355)),\n",
       " ((0, 550), (5.0, 0.003280047368061534)),\n",
       " ((0, 1046930), (2.0, 0.004346375003993819)),\n",
       " ((0, 304930), (1.0, 0.006519364686702334))]"
      ]
     },
     "execution_count": 76,
     "metadata": {},
     "output_type": "execute_result"
    }
   ],
   "source": [
    "rates_and_preds = rddTesting.map(lambda r: ((int(r[0]), int(r[1])), float(r[2]))).join(predictions) \n",
    "rates_and_preds.take(4)\n",
    "\n"
   ]
  },
  {
   "cell_type": "markdown",
   "metadata": {},
   "source": [
    "* Show the final top 10 recommendation for 8 users 0 - 7"
   ]
  },
  {
   "cell_type": "code",
   "execution_count": 93,
   "metadata": {},
   "outputs": [
    {
     "data": {
      "text/html": [
       "<div>\n",
       "<style scoped>\n",
       "    .dataframe tbody tr th:only-of-type {\n",
       "        vertical-align: middle;\n",
       "    }\n",
       "\n",
       "    .dataframe tbody tr th {\n",
       "        vertical-align: top;\n",
       "    }\n",
       "\n",
       "    .dataframe thead th {\n",
       "        text-align: right;\n",
       "    }\n",
       "</style>\n",
       "<table border=\"1\" class=\"dataframe\">\n",
       "  <thead>\n",
       "    <tr style=\"text-align: right;\">\n",
       "      <th></th>\n",
       "      <th>0</th>\n",
       "      <th>1</th>\n",
       "      <th>2</th>\n",
       "      <th>3</th>\n",
       "      <th>4</th>\n",
       "      <th>5</th>\n",
       "      <th>6</th>\n",
       "      <th>7</th>\n",
       "      <th>8</th>\n",
       "      <th>9</th>\n",
       "    </tr>\n",
       "  </thead>\n",
       "  <tbody>\n",
       "    <tr>\n",
       "      <th>0</th>\n",
       "      <td>(0, 10, 1.001914868207123)</td>\n",
       "      <td>(0, 230410, 1.001914868207123)</td>\n",
       "      <td>(0, 261550, 1.0018208213080169)</td>\n",
       "      <td>(0, 582010, 1.0018208213080169)</td>\n",
       "      <td>(0, 380, 0.9941490030218183)</td>\n",
       "      <td>(0, 238960, 0.9937153434673996)</td>\n",
       "      <td>(0, 500, 0.9919288380739991)</td>\n",
       "      <td>(0, 271590, 0.9917913378137204)</td>\n",
       "      <td>(0, 363970, 0.9897275833099256)</td>\n",
       "      <td>(0, 239140, 0.9865745227133966)</td>\n",
       "    </tr>\n",
       "    <tr>\n",
       "      <th>1</th>\n",
       "      <td>(1, 236390, 1.0039952483163501)</td>\n",
       "      <td>(1, 204360, 1.0038837804763279)</td>\n",
       "      <td>(1, 255710, 1.0037701741024045)</td>\n",
       "      <td>(1, 304050, 1.0035362421205676)</td>\n",
       "      <td>(1, 1046930, 0.9980763426994006)</td>\n",
       "      <td>(1, 218620, 0.9934348552581811)</td>\n",
       "      <td>(1, 359550, 0.9927907100365007)</td>\n",
       "      <td>(1, 578080, 0.9867839083026121)</td>\n",
       "      <td>(1, 8930, 0.9848420152806818)</td>\n",
       "      <td>(1, 322330, 0.9840510539531147)</td>\n",
       "    </tr>\n",
       "    <tr>\n",
       "      <th>2</th>\n",
       "      <td>(2, 224260, 1.0001989628397978)</td>\n",
       "      <td>(2, 292030, 0.9982868971287413)</td>\n",
       "      <td>(2, 72850, 0.9927436029731327)</td>\n",
       "      <td>(2, 1085660, 0.9910489035002124)</td>\n",
       "      <td>(2, 620, 0.9897018844830188)</td>\n",
       "      <td>(2, 271590, 0.9896831620183868)</td>\n",
       "      <td>(2, 730, 0.9895648226827858)</td>\n",
       "      <td>(2, 377160, 0.989134985039848)</td>\n",
       "      <td>(2, 431960, 0.9888925331922738)</td>\n",
       "      <td>(2, 105600, 0.9887285713189122)</td>\n",
       "    </tr>\n",
       "    <tr>\n",
       "      <th>3</th>\n",
       "      <td>(3, 219740, 1.0032542154077184)</td>\n",
       "      <td>(3, 278360, 1.0029622962026936)</td>\n",
       "      <td>(3, 130, 1.0029622962026936)</td>\n",
       "      <td>(3, 291480, 1.0028611926873627)</td>\n",
       "      <td>(3, 96000, 1.0001689105194427)</td>\n",
       "      <td>(3, 242760, 0.9964551625149138)</td>\n",
       "      <td>(3, 550, 0.9935908720892108)</td>\n",
       "      <td>(3, 304930, 0.9917885595356373)</td>\n",
       "      <td>(3, 620, 0.9904832352684103)</td>\n",
       "      <td>(3, 15700, 0.987999240898132)</td>\n",
       "    </tr>\n",
       "    <tr>\n",
       "      <th>4</th>\n",
       "      <td>(4, 240, 0.9993494778492729)</td>\n",
       "      <td>(4, 555570, 0.9993494778492729)</td>\n",
       "      <td>(4, 381210, 0.9993494778492729)</td>\n",
       "      <td>(4, 227300, 0.9993494778492729)</td>\n",
       "      <td>(4, 320, 0.9993494778492729)</td>\n",
       "      <td>(4, 370910, 0.9993494778492729)</td>\n",
       "      <td>(4, 242760, 0.999248621586452)</td>\n",
       "      <td>(4, 863550, 0.9992376021220086)</td>\n",
       "      <td>(4, 221380, 0.999123600540412)</td>\n",
       "      <td>(4, 420, 0.999123600540412)</td>\n",
       "    </tr>\n",
       "    <tr>\n",
       "      <th>5</th>\n",
       "      <td>(5, 220, 1.0012194827135477)</td>\n",
       "      <td>(5, 96000, 0.9995773624525937)</td>\n",
       "      <td>(5, 377160, 0.9991087389423341)</td>\n",
       "      <td>(5, 15700, 0.9938236661461112)</td>\n",
       "      <td>(5, 252950, 0.9930493164505234)</td>\n",
       "      <td>(5, 10180, 0.9930480258929044)</td>\n",
       "      <td>(5, 208090, 0.9922480186519411)</td>\n",
       "      <td>(5, 550, 0.9910267632749773)</td>\n",
       "      <td>(5, 219640, 0.9907244431093817)</td>\n",
       "      <td>(5, 304930, 0.9895819917615831)</td>\n",
       "    </tr>\n",
       "    <tr>\n",
       "      <th>6</th>\n",
       "      <td>(6, 291550, 0.9996421226467529)</td>\n",
       "      <td>(6, 813820, 0.9995527415800678)</td>\n",
       "      <td>(6, 700330, 0.9995527415800678)</td>\n",
       "      <td>(6, 444090, 0.9993687208224468)</td>\n",
       "      <td>(6, 438100, 0.9992740024089826)</td>\n",
       "      <td>(6, 252950, 0.9941588918956608)</td>\n",
       "      <td>(6, 10180, 0.9935627308622328)</td>\n",
       "      <td>(6, 218620, 0.992101641849176)</td>\n",
       "      <td>(6, 359550, 0.9917595607253391)</td>\n",
       "      <td>(6, 1085660, 0.9913506573525135)</td>\n",
       "    </tr>\n",
       "    <tr>\n",
       "      <th>7</th>\n",
       "      <td>(7, 413150, 1.002100938316386)</td>\n",
       "      <td>(7, 1046930, 0.9981470932439502)</td>\n",
       "      <td>(7, 44350, 0.995827961139858)</td>\n",
       "      <td>(7, 30, 0.9958269964485482)</td>\n",
       "      <td>(7, 363970, 0.9919097660168095)</td>\n",
       "      <td>(7, 500, 0.9915687787906834)</td>\n",
       "      <td>(7, 377160, 0.9912958931263443)</td>\n",
       "      <td>(7, 219640, 0.984215290252194)</td>\n",
       "      <td>(7, 8930, 0.9841061906628886)</td>\n",
       "      <td>(7, 252490, 0.9832909875458935)</td>\n",
       "    </tr>\n",
       "  </tbody>\n",
       "</table>\n",
       "</div>"
      ],
      "text/plain": [
       "                                 0                                 1  \\\n",
       "0       (0, 10, 1.001914868207123)    (0, 230410, 1.001914868207123)   \n",
       "1  (1, 236390, 1.0039952483163501)   (1, 204360, 1.0038837804763279)   \n",
       "2  (2, 224260, 1.0001989628397978)   (2, 292030, 0.9982868971287413)   \n",
       "3  (3, 219740, 1.0032542154077184)   (3, 278360, 1.0029622962026936)   \n",
       "4     (4, 240, 0.9993494778492729)   (4, 555570, 0.9993494778492729)   \n",
       "5     (5, 220, 1.0012194827135477)    (5, 96000, 0.9995773624525937)   \n",
       "6  (6, 291550, 0.9996421226467529)   (6, 813820, 0.9995527415800678)   \n",
       "7   (7, 413150, 1.002100938316386)  (7, 1046930, 0.9981470932439502)   \n",
       "\n",
       "                                 2                                 3  \\\n",
       "0  (0, 261550, 1.0018208213080169)   (0, 582010, 1.0018208213080169)   \n",
       "1  (1, 255710, 1.0037701741024045)   (1, 304050, 1.0035362421205676)   \n",
       "2   (2, 72850, 0.9927436029731327)  (2, 1085660, 0.9910489035002124)   \n",
       "3     (3, 130, 1.0029622962026936)   (3, 291480, 1.0028611926873627)   \n",
       "4  (4, 381210, 0.9993494778492729)   (4, 227300, 0.9993494778492729)   \n",
       "5  (5, 377160, 0.9991087389423341)    (5, 15700, 0.9938236661461112)   \n",
       "6  (6, 700330, 0.9995527415800678)   (6, 444090, 0.9993687208224468)   \n",
       "7    (7, 44350, 0.995827961139858)       (7, 30, 0.9958269964485482)   \n",
       "\n",
       "                                  4                                5  \\\n",
       "0      (0, 380, 0.9941490030218183)  (0, 238960, 0.9937153434673996)   \n",
       "1  (1, 1046930, 0.9980763426994006)  (1, 218620, 0.9934348552581811)   \n",
       "2      (2, 620, 0.9897018844830188)  (2, 271590, 0.9896831620183868)   \n",
       "3    (3, 96000, 1.0001689105194427)  (3, 242760, 0.9964551625149138)   \n",
       "4      (4, 320, 0.9993494778492729)  (4, 370910, 0.9993494778492729)   \n",
       "5   (5, 252950, 0.9930493164505234)   (5, 10180, 0.9930480258929044)   \n",
       "6   (6, 438100, 0.9992740024089826)  (6, 252950, 0.9941588918956608)   \n",
       "7   (7, 363970, 0.9919097660168095)     (7, 500, 0.9915687787906834)   \n",
       "\n",
       "                                 6                                7  \\\n",
       "0     (0, 500, 0.9919288380739991)  (0, 271590, 0.9917913378137204)   \n",
       "1  (1, 359550, 0.9927907100365007)  (1, 578080, 0.9867839083026121)   \n",
       "2     (2, 730, 0.9895648226827858)   (2, 377160, 0.989134985039848)   \n",
       "3     (3, 550, 0.9935908720892108)  (3, 304930, 0.9917885595356373)   \n",
       "4   (4, 242760, 0.999248621586452)  (4, 863550, 0.9992376021220086)   \n",
       "5  (5, 208090, 0.9922480186519411)     (5, 550, 0.9910267632749773)   \n",
       "6   (6, 10180, 0.9935627308622328)   (6, 218620, 0.992101641849176)   \n",
       "7  (7, 377160, 0.9912958931263443)   (7, 219640, 0.984215290252194)   \n",
       "\n",
       "                                 8                                 9  \n",
       "0  (0, 363970, 0.9897275833099256)   (0, 239140, 0.9865745227133966)  \n",
       "1    (1, 8930, 0.9848420152806818)   (1, 322330, 0.9840510539531147)  \n",
       "2  (2, 431960, 0.9888925331922738)   (2, 105600, 0.9887285713189122)  \n",
       "3     (3, 620, 0.9904832352684103)     (3, 15700, 0.987999240898132)  \n",
       "4   (4, 221380, 0.999123600540412)       (4, 420, 0.999123600540412)  \n",
       "5  (5, 219640, 0.9907244431093817)   (5, 304930, 0.9895819917615831)  \n",
       "6  (6, 359550, 0.9917595607253391)  (6, 1085660, 0.9913506573525135)  \n",
       "7    (7, 8930, 0.9841061906628886)   (7, 252490, 0.9832909875458935)  "
      ]
     },
     "execution_count": 93,
     "metadata": {},
     "output_type": "execute_result"
    }
   ],
   "source": [
    "Spark_rec_list = []\n",
    "for i in range(8):\n",
    "    Spark_rec_list.append(model.recommendProducts(i,10))\n",
    "Spark_rec_df = pd.DataFrame(Spark_rec_list)\n",
    "\n",
    "Spark_rec_df"
   ]
  },
  {
   "cell_type": "markdown",
   "metadata": {},
   "source": [
    "* Mesuare our recommendations by applying RMSE"
   ]
  },
  {
   "cell_type": "code",
   "execution_count": 79,
   "metadata": {},
   "outputs": [
    {
     "name": "stdout",
     "output_type": "stream",
     "text": [
      "For testing data the RMSE is 3.605158405851843\n"
     ]
    }
   ],
   "source": [
    "error = math.sqrt(rates_and_preds.map(lambda r: (r[1][0] - r[1][1])**2).mean()) \n",
    "print ('For testing data the RMSE is %s' % (error))\n"
   ]
  },
  {
   "cell_type": "code",
   "execution_count": null,
   "metadata": {},
   "outputs": [],
   "source": []
  }
 ],
 "metadata": {
  "kernelspec": {
   "display_name": "conda_python3",
   "language": "python",
   "name": "conda_python3"
  },
  "language_info": {
   "codemirror_mode": {
    "name": "ipython",
    "version": 3
   },
   "file_extension": ".py",
   "mimetype": "text/x-python",
   "name": "python",
   "nbconvert_exporter": "python",
   "pygments_lexer": "ipython3",
   "version": "3.6.5"
  }
 },
 "nbformat": 4,
 "nbformat_minor": 4
}
