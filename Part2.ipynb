import json
from urllib.request import urlopen
import requests,json,os,sys,time,re
import pandas as pd
import numpy as np


r_part2=requests.get('http://steamspy.com/api.php?request=top100forever')
r_part2.content

dic_part2 = r_part2.json()
dic_part2

total_count= 0
with open('app_part2.csv','w') as part_two:
    for game_id,game_details in dic_part2.items():
        total_count =total_count+1
        part_two.write(json.dumps({game_id:game_details}))
        part_two.write('\n')
				
dic_game_genre = {'appid':{},'name':{},'positive':{},'negative':{}}
current_count = 0
for game_id,game_details in dic_part2.items():
    if game_details!={} and game_details is not None:
        dic_game_genre['appid'].update({game_id:game_details.get("appid",{})})
        dic_game_genre['name'].update({game_id:game_details.get('name',{})})
        dic_game_genre['positive'].update({game_id:game_details.get('positive',{})})
        dic_game_genre['negative'].update({game_id:game_details.get('negative',{})})
    show_work_status(1,total_count,current_count)
    current_count+=1
		
pos = list(dic_game_genre.get('positive').values())
neg = list(dic_game_genre.get('negative').values())
appid = list(dic_game_genre.get('appid').values())
name = list(dic_game_genre.get('name').values())

percentile_list = pd.DataFrame(
    {'Positive': pos,
     'Negative': neg,
     'appid': appid,
     'Game_name': name,
    })
    
percentile_list = pd.DataFrame(
    {'Positive': pos,
     'Negative': neg,
     'appid': appid,
     'Game_name': name,
     'Positive_Rate': percentile_list["Positive"]/(percentile_list["Positive"]+percentile_list["Negative"])
    })


percentile_list.sort_values("Positive_Rate", axis = 0, ascending = False, 
                 inplace = True, na_position ='first') 
percentile_list = percentile_list.reset_index(drop=True)
percentile_list


print('Positive Rate Based Model')
df_genre_based_results = pd.Series(list(dic_game_genre.get('positive').values()),list(dic_game_genre.get('name').values())).sort_values(ascending = False)
                                       
df_genre_based_results.head(10)
