import string
content_data = percentile_list
content_data['appid'] = content_data['appid'].apply(str)  ######## Convert to String, Using them later  ##################

content_data['links'] = ('https://store.steampowered.com/app/'+ content_data['appid']).astype(str)
content_data.head(5)

import urllib
import bs4
from bs4 import BeautifulSoup
#url_contents = urllib.request.urlopen(url).read()
Game_description = pd.Series([]) 
current_count = 0
for i in range(100):
    #print(content_data['links'][i])
    url = content_data['links'][i]
    url_contents = urllib.request.urlopen(url).read()
    soup = bs4.BeautifulSoup(url_contents, 'html.parser')
    div = soup.find("div", {"id": "game_area_description"})
    ########## Fina the area of game descriptiona ##########
    Game_description[i]=div
    show_work_status(1,100,current_count)
    current_count+=1
    
#del content_data['Game_description']
soup = bs4.BeautifulSoup(url_contents, 'html.parser')
div = soup.find("div", {"id": "game_area_description"})

content = str(div)
content_data.insert(6, "Game_description", Game_description) 
content_data['Game_description'] = content_data['Game_description'].apply(str)

############################################################################################
######################### Clean description  ###############################################
############################################################################################

current_count = 0
for i in range(0,100):
    content_data['Game_description'][i] = re.sub('<.*?>', ' ', content_data['Game_description'][i])
    content_data['Game_description'][i] = re.sub('\\n.*\\n', ' ', content_data['Game_description'][i])
    content_data['Game_description'][i] = content_data['Game_description'][i].replace("\t","")
    content_data['Game_description'][i] = content_data['Game_description'][i].translate(content_data['Game_description'][i].maketrans(' ',' ',string.punctuation))

    show_work_status(1,100,current_count)
    current_count+=1

from sklearn.feature_extraction.text import TfidfVectorizer
from sklearn.metrics.pairwise import linear_kernel,cosine_similarity
tfidf_vectorizer = TfidfVectorizer(strip_accents = 'unicode',stop_words='english')
tfidf = tfidf_vectorizer.fit_transform(list(content_data['Game_description']))
#Convert DataFrame Series into List
tfidf_vectorizer.get_feature_names()
#Array mapping from feature integer indices to feature name
#print(tfidf)  ####Tf-idf-weighted document-term matrix.     (0, 3473)	0.4059439800797409   (0, 1417)	0.08671197437269683

dic_recommended_1 = {}
for index in range(content_data['Game_description'].shape[0]):
    
    similarities_1 = linear_kernel(tfidf[index],tfidf).flatten()
    #print(tfidf)  ####Tf-idf-weighted document-term matrix.     (0, 3473)	0.4059439800797409   (0, 1417)	0.08671197437269683
    #print(linear_kernel(tfidf[1],tfidf[3]))
   
    #similarities_2 = cosine_similarities(tfidf[index:index+1],tfidf).flatten()
    related_docs_indices_1 = (-similarities_1).argsort()[:10]
    #related_docs_indices_2 = similarities_2.argsort()[:-10:-1]

    #argsort returns an array of indices of the same shape as 
    dic_recommended_1.update({list_app_name[index]:[list_app_name[i] for i in related_docs_indices_1]})
df_content_based_results_1 = pd.DataFrame(dic_recommended_1)
#df_content_based_results_1.index.name = 'steam_appname'
df_content_based_results_1.reset_index(inplace=True)

df_content_based_results_1 = df_content_based_results_1.T
print(df_content_based_results_1.shape)
df_content_based_results_1
