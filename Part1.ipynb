import json
from urllib.request import urlopen
import requests,json,os,sys,time,re
import pandas as pd
import numpy as np

########################  A status showing function  ###############################
def show_work_status(singleCount, totalCount, currentCount):
    currentCount+=singleCount
    percentage=1.*currentCount/totalCount*100
    status='>'*int(percentage/2)+'-'*(50-int(percentage/2))
    if percentage % 3:
        sys.stdout.write('\rStatus:[{0}]{1:.2f}%'.format(status,percentage))
        sys.stdout.flush()
    if percentage>=100: print('\n')
    
r=requests.get('http://steamspy.com/api.php?request=all')
r.content

dic_steamspy = r.json()

total_count= 0
with open('app_stats_all.csv','w') as fid:
    for game_id,game_stats in dic_steamspy.items():
        total_count =total_count+1
        fid.write(json.dumps({game_id:game_stats}))
        fid.write('\n')
        
dic_game_stats = {'appid':{},'name':{},'owners':{},'price':{}}
current_count = 0
for game_id, game_stats in dic_steamspy.items():
    if game_stats!={} and game_stats is not None:
        dic_game_stats['appid'].update({game_id:game_stats.get("appid",{})})
        dic_game_stats['name'].update({game_id:game_stats.get('name',{})})
        dic_game_stats['owners'].update({game_id:game_stats.get('owners',{})})
        dic_game_stats['price'].update({game_id:game_stats.get('price',{})})
    show_work_status(1,total_count,current_count)
    current_count+=1
    
print('Popularity Based Model')
df_popularity_based_results = pd.Series(list(dic_game_stats.get('owners').values()),list(dic_game_stats.get('name').values())).sort_values(ascending = False)


                                       
df_popularity_based_results.head(10)
############################  Top games by quantity of owners
Top_owners = pd.DataFrame(df_popularity_based_results)
Top10 = Top_owners.head(10)
